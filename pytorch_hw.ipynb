{
 "cells": [
  {
   "cell_type": "code",
   "execution_count": 80,
   "id": "0090403a-c772-4aa2-aa57-484713eaf063",
   "metadata": {},
   "outputs": [],
   "source": [
    "import torch\n",
    "import torch.nn as nn\n",
    "import torch.optim as optim\n",
    "import torchvision\n",
    "torchvision.disable_beta_transforms_warning()\n",
    "import torchvision.transforms.v2 as transforms\n",
    "\n",
    "\n",
    "import numpy as np\n",
    "import matplotlib.pyplot as plt\n",
    "%matplotlib inline\n",
    "%config InlineRenderer.figure_format = 'retina'\n",
    "\n",
    "\n",
    "import torch.utils.tensorboard as tb\n",
    "import datetime\n",
    "import os\n",
    "from tqdm.notebook import tqdm\n",
    "import time \n"
   ]
  },
  {
   "cell_type": "markdown",
   "id": "82843a3e-0776-4c72-a455-63fbb4dccbe4",
   "metadata": {},
   "source": [
    "# Comparing MLP and Convolutional Models\n",
    "\n",
    "## Description\n",
    "\n",
    "In this week's homework, we'll use PyTorch to compare the performance of multi-layer perceptrons (MLP's; the kind of model we've looked at so far) against _convolutional_ neural networks (CNN's). We'll talk about convolutions in class on Monday, but you can get started on the MLP part of the homework as soon as you're ready. For our comparison we'll go back to the CIFAR-10 dataset, since it's a bit less chaotic than CIFAR-100.\n",
    "\n",
    "As with the last homework, I have some guidelines about what parts of the homework are necessary for different grades:\n",
    "\n",
    "- The basic version, for a C, is to define and train an MLP and a CNN.\n",
    "- On top of that, the B level work requires you to analyze your results a bit. I'll describe this in more detail later in the notebook after the code that sets up and trains the networks.\n",
    "- For an A, you'll need to finish the activation map visualization in the last section of this notebook. More details on that later on.\n",
    "\n",
    "The rest of the document is organized into sections which are labeled with the grade they correspond to.\n",
    "\n",
    "\n",
    "`code`\n"
   ]
  },
  {
   "cell_type": "markdown",
   "id": "0f24cd25-bc95-4507-971b-e407c7b8b468",
   "metadata": {},
   "source": [
    "## Data Setup\n",
    "\n",
    "The first section of the notebook gets the dataset and sets up the transforms we need. The code in this section is complete, although you may need to change the dataset path or change the `transform` definition to match your version of torchvision."
   ]
  },
  {
   "cell_type": "code",
   "execution_count": 81,
   "id": "2feec77b",
   "metadata": {},
   "outputs": [],
   "source": [
    "# Directories\n",
    "\n",
    "model_dir = \"models\"\n",
    "\n",
    "logs_dir = \"logs\""
   ]
  },
  {
   "cell_type": "code",
   "execution_count": 82,
   "id": "fbe40599-58d5-4920-9495-13f356e7c91a",
   "metadata": {},
   "outputs": [
    {
     "name": "stdout",
     "output_type": "stream",
     "text": [
      "Files already downloaded and verified\n"
     ]
    }
   ],
   "source": [
    "transform = transforms.Compose([\n",
    "    transforms.ToImage(),\n",
    "    transforms.ConvertImageDtype(),\n",
    "])\n",
    "\n",
    "# If you already have the CIFAR10 data downloaded from the in-class notebook, you can change the path here\n",
    "# to point to it so you avoid downloading a second copy.\n",
    "cifar = torchvision.datasets.CIFAR10(\"../data/torch/cifar\", download=True, transform=transform)\n",
    "train_size = int(0.8 * len(cifar))\n",
    "train_data, valid_data = torch.utils.data.random_split(cifar, [train_size, len(cifar) - train_size])\n",
    "\n",
    "classes = ['plane', 'car', 'bird', 'cat', 'deer', 'dog', 'frog', 'horse', 'ship', 'truck']\n",
    "\n"
   ]
  },
  {
   "cell_type": "code",
   "execution_count": 83,
   "id": "fff7fa3b-fe94-4ad5-a11d-0af917329dae",
   "metadata": {},
   "outputs": [],
   "source": [
    "# Constants\n",
    "\n",
    "cifar_mean = (0.4914, 0.4822, 0.4465)\n",
    "cifar_std = (0.2470, 0.2435, 0.2616)\n",
    "\n",
    "normalize = transforms.Normalize(cifar_mean, cifar_std)"
   ]
  },
  {
   "cell_type": "markdown",
   "id": "e983e32d",
   "metadata": {},
   "source": [
    "### Set device to GPU"
   ]
  },
  {
   "cell_type": "code",
   "execution_count": 84,
   "id": "30ab889b",
   "metadata": {},
   "outputs": [
    {
     "name": "stdout",
     "output_type": "stream",
     "text": [
      "Device: mps\n"
     ]
    }
   ],
   "source": [
    "if torch.backends.mps.is_available():\n",
    "    device = torch.device('mps')\n",
    "else: \n",
    "    device = 'cpu'\n",
    "\n",
    "print(\"Device:\", device)"
   ]
  },
  {
   "cell_type": "markdown",
   "id": "bc4c144a-b2ae-455b-a636-ebd7a28806db",
   "metadata": {},
   "source": [
    "## Models and Training (C)\n",
    "\n",
    "### MLP"
   ]
  },
  {
   "cell_type": "code",
   "execution_count": 85,
   "id": "b5917c17-dd34-4d98-82aa-47a2734f75ef",
   "metadata": {},
   "outputs": [],
   "source": [
    "class MLP(nn.Module):\n",
    "\n",
    "    def __init__(self, arch=[256, 128], activation=nn.ReLU):\n",
    "        super().__init__()\n",
    "        self.layers = []\n",
    "        arch.insert(0, 3 * 32 * 32)\n",
    "        arch.append(10)\n",
    "        for i in range(len(arch) - 1):\n",
    "            self.layers.append(nn.Linear(arch[i], arch[i+1]))\n",
    "            if i < len(arch) - 2:\n",
    "                self.layers.append(activation())\n",
    "        self.model = nn.Sequential(*self.layers)\n",
    "\n",
    "    def forward(self, x):\n",
    "        return self.model(x.reshape(-1, 3 * 32 * 32)).squeeze(dim=0)"
   ]
  },
  {
   "cell_type": "markdown",
   "id": "67ea8c83",
   "metadata": {},
   "source": [
    "### CNN"
   ]
  },
  {
   "cell_type": "code",
   "execution_count": 86,
   "id": "608fb146-c6eb-404b-9ac5-85c1e35675ed",
   "metadata": {},
   "outputs": [],
   "source": [
    "class CNN(nn.Module):\n",
    "\n",
    "    def __init__(self, activation=nn.ReLU):\n",
    "        super().__init__()\n",
    "        self.c1 = nn.Conv2d(3, 8, 3, padding=3)\n",
    "        self.a1 = activation()\n",
    "        self.c2 = nn.Conv2d(8, 16, 3, groups=2, padding=1, stride=2)\n",
    "        self.a2 = activation()\n",
    "        self.c3 = nn.Conv2d(16, 32, 3, stride=2)\n",
    "        self.flatten = nn.Flatten()\n",
    "        self.l1 =  nn.Linear(32*8*8, 10)\n",
    "\n",
    "    def forward(self, x):\n",
    "        h1 = self.c1(x)\n",
    "        h2 = self.a1(h1)\n",
    "        h3 = self.c2(h2)\n",
    "        h4 = self.a2(h3)\n",
    "        h5 = self.c3(h4)\n",
    "        h6 = self.flatten(h5)\n",
    "        h7 = self.l1(h6)\n",
    "        return h7"
   ]
  },
  {
   "cell_type": "markdown",
   "id": "a4d0cb82-472e-4c23-8e83-b30df497de8a",
   "metadata": {},
   "source": [
    "### Train function\n",
    "\n",
    "Now let's define a training function for our MLP. As usual, you may want to add more arguments to the training function. For the latter parts of the notebook, it will be helpful if your training function returns both the model and a list of the training and validation accuracies for each epoch."
   ]
  },
  {
   "cell_type": "code",
   "execution_count": 93,
   "id": "56a7791e-a629-4776-b259-c475dae86722",
   "metadata": {},
   "outputs": [],
   "source": [
    "def train(run, model_class=MLP, arch= [256,128], lr=1e-3, epochs=10, batch_size=64, momentum=0.9, reg=1e-5, activation=nn.ReLU, use_augmentation=False, aug_params=None):\n",
    "    start = time.time()\n",
    "    data_loader = torch.utils.data.DataLoader(train_data, batch_size=batch_size, shuffle=True)\n",
    "    valid_loader = torch.utils.data.DataLoader(valid_data, batch_size=batch_size, shuffle=False) # why shuffle = false here?\n",
    "\n",
    "    if use_augmentation:\n",
    "        augments = transforms.Compose([\n",
    "            transforms.RandomHorizontalFlip(aug_params['flip_prob']),\n",
    "            transforms.RandomGrayscale(aug_params['grayscale_prob']),\n",
    "            transforms.ColorJitter(\n",
    "                brightness=(aug_params['bright_min'], aug_params['bright_max']),\n",
    "                contrast=0,\n",
    "                saturation=0,\n",
    "                hue=0),\n",
    "            transforms.RandomCrop(\n",
    "                size=32,\n",
    "                padding=aug_params['shift_size'],\n",
    "                fill=cifar_mean)\n",
    "        ])\n",
    "\n",
    "# total num parameters\n",
    "        # linear = xW+b, whre w is a matrix and b is bias vector, so total number params is just entries in matrix and bias vector\n",
    "        # \n",
    "    train_accs = []\n",
    "    valid_accs = []\n",
    "\n",
    "    if model_class == MLP:\n",
    "        model = MLP(arch=arch, activation=activation).to(device)\n",
    "        name = \"MLP\"\n",
    "    if model_class == CNN:\n",
    "        model = CNN().to(device)\n",
    "        name = \"CNN\"\n",
    "\n",
    "    loss = nn.CrossEntropyLoss()\n",
    "    opt = optim.SGD(model.parameters(), momentum=momentum, lr=lr, weight_decay=reg)\n",
    "\n",
    "\n",
    "    # Name each training run\n",
    "    name += str(run) + '--' # Run number\n",
    "    name += \":\".join(map(str, arch))\n",
    "    name += '-lr-' + str(lr) + '-bs-' + str(batch_size) + '-mom-' + str(momentum) + '-epochs-' + str(epochs) + '-reg-' + str(reg)\n",
    "    logger = tb.SummaryWriter(os.path.join(logs_dir, name))\n",
    "    global_step = 0\n",
    "    \n",
    "    for i in tqdm(range(epochs)):\n",
    "        model.train()\n",
    "        # accs = []\n",
    "        for batch_xs, batch_ys in data_loader:\n",
    "            batch_xs = batch_xs.to(device)\n",
    "            batch_ys = batch_ys.to(device)\n",
    "\n",
    "            if use_augmentation:\n",
    "                batch_xs = augments(batch_xs).to(device)\n",
    "\n",
    "            preds = model(normalize(batch_xs))\n",
    "            loss_val = loss(preds, batch_ys)\n",
    "            # accs.append((preds.argmax(dim=1) == batch_ys).float().mean())\n",
    "\n",
    "            logger.add_scalar(\"Loss\", loss_val, global_step=global_step)\n",
    "\n",
    "            # Update\n",
    "            opt.zero_grad()\n",
    "            loss_val.backward()\n",
    "            opt.step()\n",
    "\n",
    "            logger.add_scalar(\"Training accuracy\", (preds.argmax(dim=1) == batch_ys).float().mean(), global_step=global_step)\n",
    "\n",
    "            global_step += 1\n",
    "\n",
    "       \n",
    "        # average training accuracy\n",
    "        # train_accs.append(torch.tensor(accs).mean().item())\n",
    "\n",
    "        # start over for eval stage\n",
    "        model.eval()\n",
    "        valid_accs = []\n",
    "        for batch_xs, batch_ys in valid_loader:\n",
    "            batch_xs = batch_xs.to(device)\n",
    "            batch_ys = batch_ys.to(device)\n",
    "            valid_preds = model(normalize(batch_xs))\n",
    "            valid_accs.append((valid_preds.argmax(dim=1) == batch_ys).float().mean())\n",
    "        \n",
    "        # logger.add_scalar(\"Validation accuracy\", torch.tensor(valid_accs).mean().item(), global_step=global_step)\n",
    "        logger.add_scalar(\"Validation accuracy\", torch.tensor(valid_accs).mean(), global_step=global_step)\n",
    "\n",
    "    train_time = time.time() - start\n",
    "    logger.add_scalar(\"Training time\", train_time, global_step=global_step )\n",
    "    return model, train_accs, valid_accs"
   ]
  },
  {
   "cell_type": "markdown",
   "id": "b4f6c878",
   "metadata": {},
   "source": [
    "### Train MLP"
   ]
  },
  {
   "cell_type": "code",
   "execution_count": 97,
   "id": "0cf70533",
   "metadata": {},
   "outputs": [
    {
     "data": {
      "application/vnd.jupyter.widget-view+json": {
       "model_id": "621c1a9fcb60424694f4812f80caa17c",
       "version_major": 2,
       "version_minor": 0
      },
      "text/plain": [
       "  0%|          | 0/15 [00:00<?, ?it/s]"
      ]
     },
     "metadata": {},
     "output_type": "display_data"
    },
    {
     "data": {
      "application/vnd.jupyter.widget-view+json": {
       "model_id": "85d794008297438abb735b722270142b",
       "version_major": 2,
       "version_minor": 0
      },
      "text/plain": [
       "  0%|          | 0/15 [00:00<?, ?it/s]"
      ]
     },
     "metadata": {},
     "output_type": "display_data"
    },
    {
     "data": {
      "application/vnd.jupyter.widget-view+json": {
       "model_id": "b532b10ca6cb44e389c2608c28a36e60",
       "version_major": 2,
       "version_minor": 0
      },
      "text/plain": [
       "  0%|          | 0/15 [00:00<?, ?it/s]"
      ]
     },
     "metadata": {},
     "output_type": "display_data"
    },
    {
     "data": {
      "application/vnd.jupyter.widget-view+json": {
       "model_id": "935d1279db0c4eb9955381e9cee75418",
       "version_major": 2,
       "version_minor": 0
      },
      "text/plain": [
       "  0%|          | 0/15 [00:00<?, ?it/s]"
      ]
     },
     "metadata": {},
     "output_type": "display_data"
    },
    {
     "data": {
      "application/vnd.jupyter.widget-view+json": {
       "model_id": "7e6e357150af455f91878c871251eb1d",
       "version_major": 2,
       "version_minor": 0
      },
      "text/plain": [
       "  0%|          | 0/15 [00:00<?, ?it/s]"
      ]
     },
     "metadata": {},
     "output_type": "display_data"
    }
   ],
   "source": [
    "learning_rates = [1e-5, 1e-4, 1e-3, 1e-2, 1e-1]\n",
    "for i in range(5):\n",
    "    \n",
    "    mlp_model, mlp_train_accs, mlp_valid_accs = train(i, model_class=MLP, \n",
    "                                                    arch= [256,128],\n",
    "                                                    lr=learning_rates[i], \n",
    "                                                    epochs=15, \n",
    "                                                    batch_size=64,\n",
    "                                                    momentum=0.9,\n",
    "                                                    reg=1e-5, \n",
    "                                                    activation=nn.ReLU, \n",
    "                                                    use_augmentation=True, \n",
    "                                                    aug_params=aug_params\n",
    "                                                    )\n",
    "    \n",
    "    torch.save(mlp_model.state_dict(), os.path.join(model_dir, 'mlp_model' + str(i) + '.pt'))\n",
    "\n",
    "    "
   ]
  },
  {
   "cell_type": "markdown",
   "id": "9a920699",
   "metadata": {},
   "source": [
    "### Train CNN"
   ]
  },
  {
   "cell_type": "code",
   "execution_count": 99,
   "id": "4ded6d3f-5f6f-4a27-8e24-5cc6f770d6d3",
   "metadata": {},
   "outputs": [
    {
     "data": {
      "application/vnd.jupyter.widget-view+json": {
       "model_id": "478c065eb1a440748b7877dcd05d9ec3",
       "version_major": 2,
       "version_minor": 0
      },
      "text/plain": [
       "  0%|          | 0/15 [00:00<?, ?it/s]"
      ]
     },
     "metadata": {},
     "output_type": "display_data"
    },
    {
     "data": {
      "application/vnd.jupyter.widget-view+json": {
       "model_id": "dc632309f0a14ed29ddc3390279ec45b",
       "version_major": 2,
       "version_minor": 0
      },
      "text/plain": [
       "  0%|          | 0/15 [00:00<?, ?it/s]"
      ]
     },
     "metadata": {},
     "output_type": "display_data"
    },
    {
     "data": {
      "application/vnd.jupyter.widget-view+json": {
       "model_id": "f350b5ae246f4eedb8ee0a55ac21625e",
       "version_major": 2,
       "version_minor": 0
      },
      "text/plain": [
       "  0%|          | 0/15 [00:00<?, ?it/s]"
      ]
     },
     "metadata": {},
     "output_type": "display_data"
    },
    {
     "data": {
      "application/vnd.jupyter.widget-view+json": {
       "model_id": "66107d9cf7084274a738d4d365e6b985",
       "version_major": 2,
       "version_minor": 0
      },
      "text/plain": [
       "  0%|          | 0/15 [00:00<?, ?it/s]"
      ]
     },
     "metadata": {},
     "output_type": "display_data"
    },
    {
     "data": {
      "application/vnd.jupyter.widget-view+json": {
       "model_id": "577d72cc1c83442d8256356c01c671a8",
       "version_major": 2,
       "version_minor": 0
      },
      "text/plain": [
       "  0%|          | 0/15 [00:00<?, ?it/s]"
      ]
     },
     "metadata": {},
     "output_type": "display_data"
    }
   ],
   "source": [
    "for i in range(5):\n",
    "    cnn_model, cnn_train_accs, cnn_valid_accs = train(i, model_class=CNN, \n",
    "                                                        lr=1e-2, \n",
    "                                                        epochs=15, \n",
    "                                                        batch_size=64,\n",
    "                                                        momentum=0.9,\n",
    "                                                        reg=1e-5, \n",
    "                                                        activation=nn.ReLU, \n",
    "                                                        use_augmentation=True, \n",
    "                                                        aug_params=aug_params)\n",
    "    torch.save(cnn_model.state_dict(), os.path.join(model_dir, 'cnn_model' + str(i) + '.pt'))"
   ]
  },
  {
   "cell_type": "markdown",
   "id": "f8b48c11",
   "metadata": {},
   "source": [
    "#### Visualize CNN predictions"
   ]
  },
  {
   "cell_type": "code",
   "execution_count": 100,
   "id": "0cfd256e",
   "metadata": {},
   "outputs": [
    {
     "ename": "AttributeError",
     "evalue": "'CNN' object has no attribute 'load_stat_dict'",
     "output_type": "error",
     "traceback": [
      "\u001b[0;31m---------------------------------------------------------------------------\u001b[0m",
      "\u001b[0;31mAttributeError\u001b[0m                            Traceback (most recent call last)",
      "Cell \u001b[0;32mIn[100], line 3\u001b[0m\n\u001b[1;32m      1\u001b[0m \u001b[38;5;66;03m# pick the best CNN\u001b[39;00m\n\u001b[1;32m      2\u001b[0m loaded_cnn \u001b[38;5;241m=\u001b[39m CNN()\n\u001b[0;32m----> 3\u001b[0m \u001b[43mloaded_cnn\u001b[49m\u001b[38;5;241;43m.\u001b[39;49m\u001b[43mload_stat_dict\u001b[49m(torch\u001b[38;5;241m.\u001b[39mload(\u001b[38;5;124m\"\u001b[39m\u001b[38;5;124mcnn_model4.pt\u001b[39m\u001b[38;5;124m\"\u001b[39m))\n",
      "File \u001b[0;32m~/miniconda3/envs/dl-class/lib/python3.11/site-packages/torch/nn/modules/module.py:1695\u001b[0m, in \u001b[0;36mModule.__getattr__\u001b[0;34m(self, name)\u001b[0m\n\u001b[1;32m   1693\u001b[0m     \u001b[38;5;28;01mif\u001b[39;00m name \u001b[38;5;129;01min\u001b[39;00m modules:\n\u001b[1;32m   1694\u001b[0m         \u001b[38;5;28;01mreturn\u001b[39;00m modules[name]\n\u001b[0;32m-> 1695\u001b[0m \u001b[38;5;28;01mraise\u001b[39;00m \u001b[38;5;167;01mAttributeError\u001b[39;00m(\u001b[38;5;124mf\u001b[39m\u001b[38;5;124m\"\u001b[39m\u001b[38;5;124m'\u001b[39m\u001b[38;5;132;01m{\u001b[39;00m\u001b[38;5;28mtype\u001b[39m(\u001b[38;5;28mself\u001b[39m)\u001b[38;5;241m.\u001b[39m\u001b[38;5;18m__name__\u001b[39m\u001b[38;5;132;01m}\u001b[39;00m\u001b[38;5;124m'\u001b[39m\u001b[38;5;124m object has no attribute \u001b[39m\u001b[38;5;124m'\u001b[39m\u001b[38;5;132;01m{\u001b[39;00mname\u001b[38;5;132;01m}\u001b[39;00m\u001b[38;5;124m'\u001b[39m\u001b[38;5;124m\"\u001b[39m)\n",
      "\u001b[0;31mAttributeError\u001b[0m: 'CNN' object has no attribute 'load_stat_dict'"
     ]
    }
   ],
   "source": [
    "# # pick the best CNN\n",
    "# loaded_cnn = CNN()\n",
    "# loaded_cnn.load_stat_dict(torch.load(\"cnn_model4.pt\"))\n"
   ]
  },
  {
   "cell_type": "code",
   "execution_count": 52,
   "id": "2f34e2d0",
   "metadata": {},
   "outputs": [
    {
     "data": {
      "image/png": "[encoded data removed]",
      "text/plain": [
       "<Figure size 800x800 with 5 Axes>"
      ]
     },
     "metadata": {},
     "output_type": "display_data"
    }
   ],
   "source": [
    "# fig, axs = plt.subplots(1, 5, figsize=(8, 8))\n",
    "# for i in range(5):\n",
    "\n",
    "#     # Get a random image from CIFAR\n",
    "#     r = torch.randint(len(cifar), (1,)).item()\n",
    "\n",
    "#     # put the image on the gpu\n",
    "\n",
    "\n",
    "#     cifar_gpu = ((cifar[r][0]).unsqueeze(0)).to(device)\n",
    "\n",
    "#     preds = nn.functional.softmax(cnn_model(normalize(cifar_gpu)), dim=1)\n",
    "#     preds = preds.cpu()\n",
    "\n",
    "#     c = torch.argmax(preds)\n",
    "#     axs[i].imshow(cifar[r][0].numpy().transpose(1, 2, 0))\n",
    "#     axs[i].set_title(\"{}: ({:.2f})\".format(classes[c], preds[0,c].item()))\n",
    "#     # axs[i].set_title(classes[cifar[r][1]])\n",
    "# plt.show()\n",
    "\n"
   ]
  },
  {
   "cell_type": "markdown",
   "id": "c651538a-987a-4d96-afed-c6d38825d0f1",
   "metadata": {},
   "source": [
    "## Analysis (B)\n",
    "\n",
    "In this section, we'll do some minor analysis of the results of our experiment above. Let's compare\n",
    "\n",
    "- the time taken to train each model,\n",
    "- the validation accuracy over time,\n",
    "- the total number of parameters in each model.\n",
    "\n",
    "That last measurement, the total number of parameters, is something you'll need to compute pased on your network architecture. When I say number of parameters here, I'm referring to the total number of dimensions in the parameter space. That is, the total number of individual real numbers in our parameters. For example, a matrix of size 100x10 has 1,000 parameters.\n",
    "\n",
    "I'm not asking for anything specific here, I'm just looking for you to think about the models we're using and their relative merits. If you think of something else that might be useful to compare the two networks, mention that as well."
   ]
  },
  {
   "cell_type": "markdown",
   "id": "1dfc92e0-25ab-4fbe-9b04-3d56b82af766",
   "metadata": {},
   "source": [
    "### Time\n",
    "The CNN took about 2 minutes and 30 seconds and the MLP took about 2 minutes and 15 seconds.\n",
    "\n",
    "\n",
    "### Validation accuracy\n",
    "The MLP worked best with a learning rate of $1e-2$ and the CNN worked best with $1e-1$. \n",
    "\n",
    "### Total parameters\n",
    "\n",
    "The total parameters of the MLP are ((3 x 32 x 32) x 256 + 256) + (256 x 128 + 128) + (128 x 10 + 10) = 820874."
   ]
  }
 ],
 "metadata": {
  "kernelspec": {
   "display_name": "Python 3 (ipykernel)",
   "language": "python",
   "name": "python3"
  },
  "language_info": {
   "codemirror_mode": {
    "name": "ipython",
    "version": 3
   },
   "file_extension": ".py",
   "mimetype": "text/x-python",
   "name": "python",
   "nbconvert_exporter": "python",
   "pygments_lexer": "ipython3",
   "version": "3.11.5"
  }
 },
 "nbformat": 4,
 "nbformat_minor": 5
}
